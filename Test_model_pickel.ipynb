{
 "cells": [
  {
   "cell_type": "code",
   "execution_count": 1,
   "id": "6afab028-36da-4511-9b8a-a67fce932322",
   "metadata": {},
   "outputs": [],
   "source": [
    "import pickle"
   ]
  },
  {
   "cell_type": "code",
   "execution_count": 5,
   "id": "66fe4d0b-758b-4a0c-9650-5ab765bc2819",
   "metadata": {},
   "outputs": [],
   "source": [
    "with open(\"model.pkl\",'rb') as file:\n",
    "    loaded_model = pickle.load(file)"
   ]
  },
  {
   "cell_type": "code",
   "execution_count": 3,
   "id": "2b96559e-6860-4b0e-9b0b-b279768a90f0",
   "metadata": {},
   "outputs": [
    {
     "name": "stderr",
     "output_type": "stream",
     "text": [
      "C:\\Users\\harsh\\AppData\\Roaming\\Python\\Python311\\site-packages\\sklearn\\utils\\validation.py:2739: UserWarning: X does not have valid feature names, but LinearRegression was fitted with feature names\n",
      "  warnings.warn(\n"
     ]
    },
    {
     "data": {
      "text/plain": [
       "array([275.25637692])"
      ]
     },
     "execution_count": 3,
     "metadata": {},
     "output_type": "execute_result"
    }
   ],
   "source": [
    "loaded_model.predict([[0.128521]])"
   ]
  },
  {
   "cell_type": "code",
   "execution_count": 6,
   "id": "43fc21c9-5aa9-4b25-a387-f99b21a6d17a",
   "metadata": {},
   "outputs": [
    {
     "name": "stderr",
     "output_type": "stream",
     "text": [
      "C:\\Users\\harsh\\AppData\\Roaming\\Python\\Python311\\site-packages\\sklearn\\utils\\validation.py:2739: UserWarning: X does not have valid feature names, but LinearRegression was fitted with feature names\n",
      "  warnings.warn(\n"
     ]
    },
    {
     "data": {
      "text/plain": [
       "array([3179.37853113])"
      ]
     },
     "execution_count": 6,
     "metadata": {},
     "output_type": "execute_result"
    }
   ],
   "source": [
    "loaded_model.predict([[3.13]])"
   ]
  },
  {
   "cell_type": "markdown",
   "id": "9839ce53-5d59-4030-ad24-734ff00e4a18",
   "metadata": {},
   "source": [
    "# pickle convert python objects into some binary format and stores it wherever you loaded back all those binary converse disrealized you can use some way they way you can executing complete whole notebook"
   ]
  },
  {
   "cell_type": "code",
   "execution_count": null,
   "id": "83c78f9d-8323-4d5b-865f-c1adfb7687d2",
   "metadata": {},
   "outputs": [],
   "source": []
  }
 ],
 "metadata": {
  "kernelspec": {
   "display_name": "Python 3 (ipykernel)",
   "language": "python",
   "name": "python3"
  },
  "language_info": {
   "codemirror_mode": {
    "name": "ipython",
    "version": 3
   },
   "file_extension": ".py",
   "mimetype": "text/x-python",
   "name": "python",
   "nbconvert_exporter": "python",
   "pygments_lexer": "ipython3",
   "version": "3.11.5"
  }
 },
 "nbformat": 4,
 "nbformat_minor": 5
}
